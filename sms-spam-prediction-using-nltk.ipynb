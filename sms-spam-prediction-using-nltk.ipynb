{
 "cells": [
  {
   "cell_type": "code",
   "execution_count": 1,
   "id": "9e5fec63",
   "metadata": {
    "execution": {
     "iopub.execute_input": "2023-11-23T09:42:30.934015Z",
     "iopub.status.busy": "2023-11-23T09:42:30.933043Z",
     "iopub.status.idle": "2023-11-23T09:42:33.961986Z",
     "shell.execute_reply": "2023-11-23T09:42:33.960497Z"
    },
    "id": "qQOgUBjPt7pw",
    "papermill": {
     "duration": 3.046418,
     "end_time": "2023-11-23T09:42:33.965843",
     "exception": false,
     "start_time": "2023-11-23T09:42:30.919425",
     "status": "completed"
    },
    "tags": []
   },
   "outputs": [],
   "source": [
    "import re\n",
    "import nltk\n",
    "from nltk.corpus import stopwords\n",
    "from nltk.stem.porter import PorterStemmer\n",
    "import pandas as pd"
   ]
  },
  {
   "cell_type": "code",
   "execution_count": 2,
   "id": "8bc00697",
   "metadata": {
    "execution": {
     "iopub.execute_input": "2023-11-23T09:42:33.985684Z",
     "iopub.status.busy": "2023-11-23T09:42:33.984954Z",
     "iopub.status.idle": "2023-11-23T09:42:34.038758Z",
     "shell.execute_reply": "2023-11-23T09:42:34.036925Z"
    },
    "id": "_KhFw1ost_8Y",
    "papermill": {
     "duration": 0.067066,
     "end_time": "2023-11-23T09:42:34.041925",
     "exception": false,
     "start_time": "2023-11-23T09:42:33.974859",
     "status": "completed"
    },
    "tags": []
   },
   "outputs": [],
   "source": [
    "message=pd.read_csv('spam.csv',encoding='ISO-8859-1')\n"
   ]
  },
  {
   "cell_type": "markdown",
   "id": "ca82e0ab",
   "metadata": {
    "id": "MFGaMWPw_3G9",
    "papermill": {
     "duration": 0.008237,
     "end_time": "2023-11-23T09:42:34.058692",
     "exception": false,
     "start_time": "2023-11-23T09:42:34.050455",
     "status": "completed"
    },
    "tags": []
   },
   "source": [
    "# New Section"
   ]
  },
  {
   "cell_type": "code",
   "execution_count": 3,
   "id": "d8b948f0",
   "metadata": {
    "execution": {
     "iopub.execute_input": "2023-11-23T09:42:34.078480Z",
     "iopub.status.busy": "2023-11-23T09:42:34.077502Z",
     "iopub.status.idle": "2023-11-23T09:42:34.100857Z",
     "shell.execute_reply": "2023-11-23T09:42:34.099789Z"
    },
    "id": "V_mnv0xsuLFo",
    "papermill": {
     "duration": 0.036858,
     "end_time": "2023-11-23T09:42:34.103931",
     "exception": false,
     "start_time": "2023-11-23T09:42:34.067073",
     "status": "completed"
    },
    "tags": []
   },
   "outputs": [],
   "source": [
    "message = message[['Category','Message']]"
   ]
  },
  {
   "cell_type": "code",
   "execution_count": 4,
   "id": "1649cd86",
   "metadata": {
    "execution": {
     "iopub.execute_input": "2023-11-23T09:42:34.123431Z",
     "iopub.status.busy": "2023-11-23T09:42:34.122961Z",
     "iopub.status.idle": "2023-11-23T09:42:34.141773Z",
     "shell.execute_reply": "2023-11-23T09:42:34.140244Z"
    },
    "id": "CMlHpVTVuPLf",
    "outputId": "e572c881-98e6-4a19-c097-e13e8b3b3ef4",
    "papermill": {
     "duration": 0.032122,
     "end_time": "2023-11-23T09:42:34.144793",
     "exception": false,
     "start_time": "2023-11-23T09:42:34.112671",
     "status": "completed"
    },
    "tags": []
   },
   "outputs": [
    {
     "data": {
      "text/html": [
       "<div>\n",
       "<style scoped>\n",
       "    .dataframe tbody tr th:only-of-type {\n",
       "        vertical-align: middle;\n",
       "    }\n",
       "\n",
       "    .dataframe tbody tr th {\n",
       "        vertical-align: top;\n",
       "    }\n",
       "\n",
       "    .dataframe thead th {\n",
       "        text-align: right;\n",
       "    }\n",
       "</style>\n",
       "<table border=\"1\" class=\"dataframe\">\n",
       "  <thead>\n",
       "    <tr style=\"text-align: right;\">\n",
       "      <th></th>\n",
       "      <th>Category</th>\n",
       "      <th>Message</th>\n",
       "    </tr>\n",
       "  </thead>\n",
       "  <tbody>\n",
       "    <tr>\n",
       "      <th>0</th>\n",
       "      <td>ham</td>\n",
       "      <td>Go until jurong point, crazy.. Available only ...</td>\n",
       "    </tr>\n",
       "    <tr>\n",
       "      <th>1</th>\n",
       "      <td>ham</td>\n",
       "      <td>Ok lar... Joking wif u oni...</td>\n",
       "    </tr>\n",
       "    <tr>\n",
       "      <th>2</th>\n",
       "      <td>spam</td>\n",
       "      <td>Free entry in 2 a wkly comp to win FA Cup fina...</td>\n",
       "    </tr>\n",
       "    <tr>\n",
       "      <th>3</th>\n",
       "      <td>ham</td>\n",
       "      <td>U dun say so early hor... U c already then say...</td>\n",
       "    </tr>\n",
       "    <tr>\n",
       "      <th>4</th>\n",
       "      <td>ham</td>\n",
       "      <td>Nah I don't think he goes to usf, he lives aro...</td>\n",
       "    </tr>\n",
       "  </tbody>\n",
       "</table>\n",
       "</div>"
      ],
      "text/plain": [
       "  Category                                            Message\n",
       "0      ham  Go until jurong point, crazy.. Available only ...\n",
       "1      ham                      Ok lar... Joking wif u oni...\n",
       "2     spam  Free entry in 2 a wkly comp to win FA Cup fina...\n",
       "3      ham  U dun say so early hor... U c already then say...\n",
       "4      ham  Nah I don't think he goes to usf, he lives aro..."
      ]
     },
     "execution_count": 4,
     "metadata": {},
     "output_type": "execute_result"
    }
   ],
   "source": [
    "message.head()"
   ]
  },
  {
   "cell_type": "code",
   "execution_count": 5,
   "id": "6627cfb5",
   "metadata": {
    "execution": {
     "iopub.execute_input": "2023-11-23T09:42:34.166259Z",
     "iopub.status.busy": "2023-11-23T09:42:34.165673Z",
     "iopub.status.idle": "2023-11-23T09:42:34.172999Z",
     "shell.execute_reply": "2023-11-23T09:42:34.171559Z"
    },
    "id": "yNH29JxcuSqf",
    "papermill": {
     "duration": 0.020732,
     "end_time": "2023-11-23T09:42:34.175620",
     "exception": false,
     "start_time": "2023-11-23T09:42:34.154888",
     "status": "completed"
    },
    "tags": []
   },
   "outputs": [],
   "source": [
    "message.columns=['label','message']"
   ]
  },
  {
   "cell_type": "code",
   "execution_count": 6,
   "id": "dd75bd8a",
   "metadata": {
    "execution": {
     "iopub.execute_input": "2023-11-23T09:42:34.197097Z",
     "iopub.status.busy": "2023-11-23T09:42:34.195771Z",
     "iopub.status.idle": "2023-11-23T09:42:34.208976Z",
     "shell.execute_reply": "2023-11-23T09:42:34.207581Z"
    },
    "id": "55nGZo8uuV4x",
    "outputId": "89a7685e-3490-40da-83c8-1d3e03e68cc0",
    "papermill": {
     "duration": 0.027118,
     "end_time": "2023-11-23T09:42:34.211778",
     "exception": false,
     "start_time": "2023-11-23T09:42:34.184660",
     "status": "completed"
    },
    "tags": []
   },
   "outputs": [
    {
     "data": {
      "text/html": [
       "<div>\n",
       "<style scoped>\n",
       "    .dataframe tbody tr th:only-of-type {\n",
       "        vertical-align: middle;\n",
       "    }\n",
       "\n",
       "    .dataframe tbody tr th {\n",
       "        vertical-align: top;\n",
       "    }\n",
       "\n",
       "    .dataframe thead th {\n",
       "        text-align: right;\n",
       "    }\n",
       "</style>\n",
       "<table border=\"1\" class=\"dataframe\">\n",
       "  <thead>\n",
       "    <tr style=\"text-align: right;\">\n",
       "      <th></th>\n",
       "      <th>label</th>\n",
       "      <th>message</th>\n",
       "    </tr>\n",
       "  </thead>\n",
       "  <tbody>\n",
       "    <tr>\n",
       "      <th>0</th>\n",
       "      <td>ham</td>\n",
       "      <td>Go until jurong point, crazy.. Available only ...</td>\n",
       "    </tr>\n",
       "    <tr>\n",
       "      <th>1</th>\n",
       "      <td>ham</td>\n",
       "      <td>Ok lar... Joking wif u oni...</td>\n",
       "    </tr>\n",
       "    <tr>\n",
       "      <th>2</th>\n",
       "      <td>spam</td>\n",
       "      <td>Free entry in 2 a wkly comp to win FA Cup fina...</td>\n",
       "    </tr>\n",
       "    <tr>\n",
       "      <th>3</th>\n",
       "      <td>ham</td>\n",
       "      <td>U dun say so early hor... U c already then say...</td>\n",
       "    </tr>\n",
       "    <tr>\n",
       "      <th>4</th>\n",
       "      <td>ham</td>\n",
       "      <td>Nah I don't think he goes to usf, he lives aro...</td>\n",
       "    </tr>\n",
       "  </tbody>\n",
       "</table>\n",
       "</div>"
      ],
      "text/plain": [
       "  label                                            message\n",
       "0   ham  Go until jurong point, crazy.. Available only ...\n",
       "1   ham                      Ok lar... Joking wif u oni...\n",
       "2  spam  Free entry in 2 a wkly comp to win FA Cup fina...\n",
       "3   ham  U dun say so early hor... U c already then say...\n",
       "4   ham  Nah I don't think he goes to usf, he lives aro..."
      ]
     },
     "execution_count": 6,
     "metadata": {},
     "output_type": "execute_result"
    }
   ],
   "source": [
    "message.head()"
   ]
  },
  {
   "cell_type": "code",
   "execution_count": 7,
   "id": "86c42742",
   "metadata": {
    "execution": {
     "iopub.execute_input": "2023-11-23T09:42:34.232191Z",
     "iopub.status.busy": "2023-11-23T09:42:34.231683Z",
     "iopub.status.idle": "2023-11-23T09:42:34.319273Z",
     "shell.execute_reply": "2023-11-23T09:42:34.317504Z"
    },
    "id": "4npiweSQuuIp",
    "outputId": "ddef6b78-cea9-4b16-8fad-dfaedff04c39",
    "papermill": {
     "duration": 0.101149,
     "end_time": "2023-11-23T09:42:34.322219",
     "exception": false,
     "start_time": "2023-11-23T09:42:34.221070",
     "status": "completed"
    },
    "tags": []
   },
   "outputs": [
    {
     "name": "stderr",
     "output_type": "stream",
     "text": [
      "[nltk_data] Downloading package stopwords to\n",
      "[nltk_data]     C:\\Users\\Dell\\AppData\\Roaming\\nltk_data...\n",
      "[nltk_data]   Unzipping corpora\\stopwords.zip.\n"
     ]
    },
    {
     "data": {
      "text/plain": [
       "True"
      ]
     },
     "execution_count": 7,
     "metadata": {},
     "output_type": "execute_result"
    }
   ],
   "source": [
    "nltk.download('stopwords')"
   ]
  },
  {
   "cell_type": "code",
   "execution_count": 8,
   "id": "2745140e",
   "metadata": {
    "execution": {
     "iopub.execute_input": "2023-11-23T09:42:34.342556Z",
     "iopub.status.busy": "2023-11-23T09:42:34.341986Z",
     "iopub.status.idle": "2023-11-23T09:42:49.095135Z",
     "shell.execute_reply": "2023-11-23T09:42:49.093737Z"
    },
    "id": "FUQzEvWTuY34",
    "papermill": {
     "duration": 14.766839,
     "end_time": "2023-11-23T09:42:49.098296",
     "exception": false,
     "start_time": "2023-11-23T09:42:34.331457",
     "status": "completed"
    },
    "tags": []
   },
   "outputs": [],
   "source": [
    "ps = PorterStemmer()\n",
    "corpus = []\n",
    "for i in range(0, len(message)):\n",
    "    review = re.sub('[^a-zA-Z]', ' ', message['message'][i])\n",
    "    review = review.lower()\n",
    "    review = review.split()\n",
    "\n",
    "    review = [ps.stem(word) for word in review if not word in stopwords.words('english')]\n",
    "    review = ' '.join(review)\n",
    "    corpus.append(review)"
   ]
  },
  {
   "cell_type": "code",
   "execution_count": 9,
   "id": "f6957492",
   "metadata": {
    "execution": {
     "iopub.execute_input": "2023-11-23T09:42:49.119536Z",
     "iopub.status.busy": "2023-11-23T09:42:49.118319Z",
     "iopub.status.idle": "2023-11-23T09:42:49.346294Z",
     "shell.execute_reply": "2023-11-23T09:42:49.344730Z"
    },
    "id": "VPQ5IK5uu2xZ",
    "papermill": {
     "duration": 0.241983,
     "end_time": "2023-11-23T09:42:49.349591",
     "exception": false,
     "start_time": "2023-11-23T09:42:49.107608",
     "status": "completed"
    },
    "tags": []
   },
   "outputs": [],
   "source": [
    "# Creating the Bag of Words model\n",
    "from sklearn.feature_extraction.text import CountVectorizer\n",
    "cv = CountVectorizer(max_features=4000)\n",
    "X = cv.fit_transform(corpus).toarray()\n",
    "\n",
    "y=pd.get_dummies(message['label'])\n",
    "y=y.iloc[:,1].values"
   ]
  },
  {
   "cell_type": "code",
   "execution_count": 10,
   "id": "25b47d8f",
   "metadata": {
    "execution": {
     "iopub.execute_input": "2023-11-23T09:42:49.369685Z",
     "iopub.status.busy": "2023-11-23T09:42:49.369181Z",
     "iopub.status.idle": "2023-11-23T09:42:49.682539Z",
     "shell.execute_reply": "2023-11-23T09:42:49.681528Z"
    },
    "id": "B7SokkP_vFmx",
    "outputId": "c4620097-24d9-4f02-cda6-94fbceaffc39",
    "papermill": {
     "duration": 0.326626,
     "end_time": "2023-11-23T09:42:49.685302",
     "exception": false,
     "start_time": "2023-11-23T09:42:49.358676",
     "status": "completed"
    },
    "tags": []
   },
   "outputs": [
    {
     "data": {
      "text/plain": [
       "<Axes: xlabel='label'>"
      ]
     },
     "execution_count": 10,
     "metadata": {},
     "output_type": "execute_result"
    },
    {
     "data": {
      "image/png": "[encoded data removed]",
      "text/plain": [
       "<Figure size 640x480 with 1 Axes>"
      ]
     },
     "metadata": {},
     "output_type": "display_data"
    }
   ],
   "source": [
    "message['label'].value_counts().plot(kind='bar')\n"
   ]
  },
  {
   "cell_type": "code",
   "execution_count": 11,
   "id": "36a5edd6",
   "metadata": {
    "execution": {
     "iopub.execute_input": "2023-11-23T09:42:49.707396Z",
     "iopub.status.busy": "2023-11-23T09:42:49.705910Z",
     "iopub.status.idle": "2023-11-23T09:42:49.716183Z",
     "shell.execute_reply": "2023-11-23T09:42:49.714901Z"
    },
    "id": "YvYMmWSVvMMZ",
    "outputId": "aa819cd1-d3f0-41a1-c90b-c8a31f5aa721",
    "papermill": {
     "duration": 0.02407,
     "end_time": "2023-11-23T09:42:49.718917",
     "exception": false,
     "start_time": "2023-11-23T09:42:49.694847",
     "status": "completed"
    },
    "tags": []
   },
   "outputs": [
    {
     "data": {
      "text/plain": [
       "(array([[0, 0, 0, ..., 0, 0, 0],\n",
       "        [0, 0, 0, ..., 0, 0, 0],\n",
       "        [0, 0, 0, ..., 0, 0, 0],\n",
       "        ...,\n",
       "        [0, 0, 0, ..., 0, 0, 0],\n",
       "        [0, 0, 0, ..., 0, 0, 0],\n",
       "        [0, 0, 0, ..., 0, 0, 0]], dtype=int64),\n",
       " array([False, False,  True, ..., False, False, False]))"
      ]
     },
     "execution_count": 11,
     "metadata": {},
     "output_type": "execute_result"
    }
   ],
   "source": [
    "X,y\n"
   ]
  },
  {
   "cell_type": "code",
   "execution_count": 12,
   "id": "4e385b15",
   "metadata": {
    "execution": {
     "iopub.execute_input": "2023-11-23T09:42:49.741459Z",
     "iopub.status.busy": "2023-11-23T09:42:49.740989Z",
     "iopub.status.idle": "2023-11-23T09:42:49.893137Z",
     "shell.execute_reply": "2023-11-23T09:42:49.891599Z"
    },
    "id": "CfUMrl_jvNwK",
    "papermill": {
     "duration": 0.167694,
     "end_time": "2023-11-23T09:42:49.896788",
     "exception": false,
     "start_time": "2023-11-23T09:42:49.729094",
     "status": "completed"
    },
    "tags": []
   },
   "outputs": [],
   "source": [
    "#train test split\n",
    "from sklearn.model_selection import train_test_split\n",
    "X_train,X_test,y_train,y_test=train_test_split(X,y,test_size=0.20,random_state=42)"
   ]
  },
  {
   "cell_type": "code",
   "execution_count": 13,
   "id": "19fd2f84",
   "metadata": {
    "execution": {
     "iopub.execute_input": "2023-11-23T09:42:49.919854Z",
     "iopub.status.busy": "2023-11-23T09:42:49.919351Z",
     "iopub.status.idle": "2023-11-23T09:42:50.137049Z",
     "shell.execute_reply": "2023-11-23T09:42:50.135621Z"
    },
    "id": "j70BR7GPvUhq",
    "papermill": {
     "duration": 0.233571,
     "end_time": "2023-11-23T09:42:50.140411",
     "exception": false,
     "start_time": "2023-11-23T09:42:49.906840",
     "status": "completed"
    },
    "tags": []
   },
   "outputs": [],
   "source": [
    "from sklearn.tree import DecisionTreeClassifier\n",
    "from sklearn.ensemble import RandomForestClassifier\n",
    "from sklearn.naive_bayes import MultinomialNB"
   ]
  },
  {
   "cell_type": "code",
   "execution_count": 14,
   "id": "7e51c3ab",
   "metadata": {
    "execution": {
     "iopub.execute_input": "2023-11-23T09:42:50.163098Z",
     "iopub.status.busy": "2023-11-23T09:42:50.161375Z",
     "iopub.status.idle": "2023-11-23T09:43:09.805579Z",
     "shell.execute_reply": "2023-11-23T09:43:09.804006Z"
    },
    "id": "1MIUUEn2vXDw",
    "papermill": {
     "duration": 19.658825,
     "end_time": "2023-11-23T09:43:09.808956",
     "exception": false,
     "start_time": "2023-11-23T09:42:50.150131",
     "status": "completed"
    },
    "tags": []
   },
   "outputs": [],
   "source": [
    "model=RandomForestClassifier()\n",
    "model.fit(X_train,y_train)\n",
    "pred=model.predict(X_test)"
   ]
  },
  {
   "cell_type": "code",
   "execution_count": 15,
   "id": "01ee3de0",
   "metadata": {
    "execution": {
     "iopub.execute_input": "2023-11-23T09:43:09.830425Z",
     "iopub.status.busy": "2023-11-23T09:43:09.829951Z",
     "iopub.status.idle": "2023-11-23T09:43:09.835884Z",
     "shell.execute_reply": "2023-11-23T09:43:09.834596Z"
    },
    "id": "mdsRj3Fivb4p",
    "papermill": {
     "duration": 0.019617,
     "end_time": "2023-11-23T09:43:09.838424",
     "exception": false,
     "start_time": "2023-11-23T09:43:09.818807",
     "status": "completed"
    },
    "tags": []
   },
   "outputs": [],
   "source": [
    "from sklearn.metrics import confusion_matrix\n",
    "from sklearn.metrics import accuracy_score"
   ]
  },
  {
   "cell_type": "code",
   "execution_count": 16,
   "id": "2d7829e1",
   "metadata": {
    "execution": {
     "iopub.execute_input": "2023-11-23T09:43:09.859713Z",
     "iopub.status.busy": "2023-11-23T09:43:09.859227Z",
     "iopub.status.idle": "2023-11-23T09:43:09.869354Z",
     "shell.execute_reply": "2023-11-23T09:43:09.867602Z"
    },
    "id": "rd2aAFf1veBI",
    "outputId": "76955726-758e-44ec-c630-45ccd66e81a7",
    "papermill": {
     "duration": 0.023714,
     "end_time": "2023-11-23T09:43:09.871829",
     "exception": false,
     "start_time": "2023-11-23T09:43:09.848115",
     "status": "completed"
    },
    "tags": []
   },
   "outputs": [
    {
     "name": "stdout",
     "output_type": "stream",
     "text": [
      "[[966   0]\n",
      " [ 22 127]]\n"
     ]
    }
   ],
   "source": [
    "print(confusion_matrix(y_test,pred))\n"
   ]
  },
  {
   "cell_type": "code",
   "execution_count": 17,
   "id": "28b85cc2",
   "metadata": {
    "execution": {
     "iopub.execute_input": "2023-11-23T09:43:09.894616Z",
     "iopub.status.busy": "2023-11-23T09:43:09.893476Z",
     "iopub.status.idle": "2023-11-23T09:43:09.901975Z",
     "shell.execute_reply": "2023-11-23T09:43:09.900607Z"
    },
    "id": "yJ1p8gi3vhGe",
    "outputId": "12b521bc-8739-4de3-eb6e-b294368c8578",
    "papermill": {
     "duration": 0.022891,
     "end_time": "2023-11-23T09:43:09.904450",
     "exception": false,
     "start_time": "2023-11-23T09:43:09.881559",
     "status": "completed"
    },
    "tags": []
   },
   "outputs": [
    {
     "name": "stdout",
     "output_type": "stream",
     "text": [
      "0.9802690582959641\n"
     ]
    }
   ],
   "source": [
    "print(accuracy_score(y_test,pred))"
   ]
  },
  {
   "cell_type": "code",
   "execution_count": 18,
   "id": "3ea47e9c",
   "metadata": {
    "execution": {
     "iopub.execute_input": "2023-11-23T09:43:09.927418Z",
     "iopub.status.busy": "2023-11-23T09:43:09.926965Z",
     "iopub.status.idle": "2023-11-23T09:43:19.337199Z",
     "shell.execute_reply": "2023-11-23T09:43:19.335829Z"
    },
    "id": "x6XRZp3zvk_f",
    "papermill": {
     "duration": 9.425525,
     "end_time": "2023-11-23T09:43:19.340616",
     "exception": false,
     "start_time": "2023-11-23T09:43:09.915091",
     "status": "completed"
    },
    "tags": []
   },
   "outputs": [],
   "source": [
    "model_2=DecisionTreeClassifier()\n",
    "model_2.fit(X_train,y_train)\n",
    "pred2=model_2.predict(X_test)"
   ]
  },
  {
   "cell_type": "code",
   "execution_count": 19,
   "id": "1858daf0",
   "metadata": {
    "execution": {
     "iopub.execute_input": "2023-11-23T09:43:19.363089Z",
     "iopub.status.busy": "2023-11-23T09:43:19.362354Z",
     "iopub.status.idle": "2023-11-23T09:43:19.373147Z",
     "shell.execute_reply": "2023-11-23T09:43:19.371755Z"
    },
    "id": "3F64IIqYvobw",
    "outputId": "068b8b32-1589-4b2a-bdef-be8c63dfacbc",
    "papermill": {
     "duration": 0.025205,
     "end_time": "2023-11-23T09:43:19.375590",
     "exception": false,
     "start_time": "2023-11-23T09:43:19.350385",
     "status": "completed"
    },
    "tags": []
   },
   "outputs": [
    {
     "name": "stdout",
     "output_type": "stream",
     "text": [
      "[[957   9]\n",
      " [ 20 129]]\n",
      "0.9739910313901345\n"
     ]
    },
    {
     "data": {
      "text/plain": [
       "(None, None)"
      ]
     },
     "execution_count": 19,
     "metadata": {},
     "output_type": "execute_result"
    }
   ],
   "source": [
    "print(confusion_matrix(y_test,pred2)),print(accuracy_score(y_test,pred2))"
   ]
  },
  {
   "cell_type": "code",
   "execution_count": 20,
   "id": "b20f42c6",
   "metadata": {
    "execution": {
     "iopub.execute_input": "2023-11-23T09:43:19.399064Z",
     "iopub.status.busy": "2023-11-23T09:43:19.398285Z",
     "iopub.status.idle": "2023-11-23T09:43:19.639556Z",
     "shell.execute_reply": "2023-11-23T09:43:19.637812Z"
    },
    "id": "En9eIVUVvrav",
    "papermill": {
     "duration": 0.258825,
     "end_time": "2023-11-23T09:43:19.644712",
     "exception": false,
     "start_time": "2023-11-23T09:43:19.385887",
     "status": "completed"
    },
    "tags": []
   },
   "outputs": [],
   "source": [
    "model_3=MultinomialNB()\n",
    "model_3.fit(X_train,y_train)\n",
    "pred3=model_3.predict(X_test)"
   ]
  },
  {
   "cell_type": "code",
   "execution_count": 21,
   "id": "3a73363a",
   "metadata": {
    "execution": {
     "iopub.execute_input": "2023-11-23T09:43:19.690184Z",
     "iopub.status.busy": "2023-11-23T09:43:19.689250Z",
     "iopub.status.idle": "2023-11-23T09:43:19.708505Z",
     "shell.execute_reply": "2023-11-23T09:43:19.706837Z"
    },
    "id": "I02YvGj8vupS",
    "outputId": "c9540db4-7f00-4ea9-a43e-61b6a215b190",
    "papermill": {
     "duration": 0.047524,
     "end_time": "2023-11-23T09:43:19.713183",
     "exception": false,
     "start_time": "2023-11-23T09:43:19.665659",
     "status": "completed"
    },
    "tags": []
   },
   "outputs": [
    {
     "name": "stdout",
     "output_type": "stream",
     "text": [
      "[[955  11]\n",
      " [  9 140]]\n",
      "0.9820627802690582\n"
     ]
    },
    {
     "data": {
      "text/plain": [
       "(None, None)"
      ]
     },
     "execution_count": 21,
     "metadata": {},
     "output_type": "execute_result"
    }
   ],
   "source": [
    "print(confusion_matrix(y_test,pred3)),print(accuracy_score(y_test,pred3))"
   ]
  }
 ],
 "metadata": {
  "accelerator": "GPU",
  "colab": {
   "provenance": []
  },
  "gpuClass": "standard",
  "kaggle": {
   "accelerator": "none",
   "dataSources": [
    {
     "datasetId": 483,
     "sourceId": 982,
     "sourceType": "datasetVersion"
    }
   ],
   "dockerImageVersionId": 30587,
   "isGpuEnabled": false,
   "isInternetEnabled": true,
   "language": "python",
   "sourceType": "notebook"
  },
  "kernelspec": {
   "display_name": "Python 3",
   "language": "python",
   "name": "python3"
  },
  "language_info": {
   "codemirror_mode": {
    "name": "ipython",
    "version": 3
   },
   "file_extension": ".py",
   "mimetype": "text/x-python",
   "name": "python",
   "nbconvert_exporter": "python",
   "pygments_lexer": "ipython3",
   "version": "3.11.5"
  },
  "papermill": {
   "default_parameters": {},
   "duration": 53.582022,
   "end_time": "2023-11-23T09:43:20.671916",
   "environment_variables": {},
   "exception": null,
   "input_path": "__notebook__.ipynb",
   "output_path": "__notebook__.ipynb",
   "parameters": {},
   "start_time": "2023-11-23T09:42:27.089894",
   "version": "2.4.0"
  }
 },
 "nbformat": 4,
 "nbformat_minor": 5
}
